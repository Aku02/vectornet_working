{
 "cells": [
  {
   "cell_type": "code",
   "execution_count": 1,
   "metadata": {
    "_cell_guid": "79c7e3d0-c299-4dcb-8224-4455121ee9b0",
    "_uuid": "d629ff2d2480ee46fbb7e2d37f6b5fab8052498a",
    "execution": {
     "iopub.execute_input": "2020-09-14T10:18:55.099878Z",
     "iopub.status.busy": "2020-09-14T10:18:55.099201Z",
     "iopub.status.idle": "2020-09-14T10:18:56.212483Z",
     "shell.execute_reply": "2020-09-14T10:18:56.212932Z"
    },
    "papermill": {
     "duration": 1.127461,
     "end_time": "2020-09-14T10:18:56.213114",
     "exception": false,
     "start_time": "2020-09-14T10:18:55.085653",
     "status": "completed"
    },
    "tags": []
   },
   "outputs": [],
   "source": [
    "import os\n",
    "import numpy as np\n",
    "from numpy import ma\n",
    "from torch.utils.data import DataLoader\n",
    "from tqdm import tqdm\n",
    "from pykalman import AdditiveUnscentedKalmanFilter\n",
    "from joblib import Parallel, delayed\n",
    "import math"
   ]
  },
  {
   "cell_type": "code",
   "execution_count": 3,
   "metadata": {
    "execution": {
     "iopub.execute_input": "2020-09-14T10:19:33.464262Z",
     "iopub.status.busy": "2020-09-14T10:19:33.463614Z",
     "iopub.status.idle": "2020-09-14T10:19:35.172576Z",
     "shell.execute_reply": "2020-09-14T10:19:35.171824Z"
    },
    "papermill": {
     "duration": 1.72347,
     "end_time": "2020-09-14T10:19:35.172695",
     "exception": false,
     "start_time": "2020-09-14T10:19:33.449225",
     "status": "completed"
    },
    "tags": []
   },
   "outputs": [],
   "source": [
    "from l5kit.data import LocalDataManager, ChunkedDataset\n",
    "from l5kit.dataset import AgentDataset\n",
    "from l5kit.rasterization import build_rasterizer\n",
    "from l5kit.evaluation import write_pred_csv"
   ]
  },
  {
   "cell_type": "code",
   "execution_count": 4,
   "metadata": {
    "execution": {
     "iopub.execute_input": "2020-09-14T10:19:35.199001Z",
     "iopub.status.busy": "2020-09-14T10:19:35.198034Z",
     "iopub.status.idle": "2020-09-14T10:19:35.200847Z",
     "shell.execute_reply": "2020-09-14T10:19:35.201345Z"
    },
    "papermill": {
     "duration": 0.020076,
     "end_time": "2020-09-14T10:19:35.201493",
     "exception": false,
     "start_time": "2020-09-14T10:19:35.181417",
     "status": "completed"
    },
    "tags": []
   },
   "outputs": [],
   "source": [
    "cfg = {\n",
    "    'format_version': 4,\n",
    "    'model_params': {\n",
    "        'history_num_frames': 100,\n",
    "        'history_step_size': 1,\n",
    "        'history_delta_time': 0.1,\n",
    "        'future_num_frames': 50,\n",
    "        'future_step_size': 1,\n",
    "        'future_delta_time': 0.1\n",
    "    },\n",
    "    \n",
    "    'raster_params': {\n",
    "        'raster_size': [1, 1],\n",
    "        'pixel_size': [0.5, 0.5],\n",
    "        'ego_center': [0.25, 0.5],\n",
    "        'map_type': 'py_semantic',\n",
    "        'satellite_map_key': 'aerial_map/aerial_map.png',\n",
    "        'semantic_map_key': 'semantic_map/semantic_map.pb',\n",
    "        'dataset_meta_key': 'meta.json',\n",
    "        'filter_agents_threshold': 0.5\n",
    "    },\n",
    "    \n",
    "    'test_data_loader': {\n",
    "        'key': 'scenes/test.zarr',\n",
    "        'batch_size': 64,\n",
    "        'shuffle': False,\n",
    "        'num_workers': 4\n",
    "    }\n",
    "}"
   ]
  },
  {
   "cell_type": "code",
   "execution_count": 5,
   "metadata": {
    "execution": {
     "iopub.execute_input": "2020-09-14T10:19:35.225538Z",
     "iopub.status.busy": "2020-09-14T10:19:35.224810Z",
     "iopub.status.idle": "2020-09-14T10:19:35.228270Z",
     "shell.execute_reply": "2020-09-14T10:19:35.227694Z"
    },
    "papermill": {
     "duration": 0.018129,
     "end_time": "2020-09-14T10:19:35.228408",
     "exception": false,
     "start_time": "2020-09-14T10:19:35.210279",
     "status": "completed"
    },
    "tags": []
   },
   "outputs": [],
   "source": [
    "params = {\n",
    "    'Q_std': 0.00039548740307155435, \n",
    "    'acc_decay': 0.9466336363139376, \n",
    "    'acc_std': 0.006214926973039985, \n",
    "    'ang_lim': 0.0, \n",
    "    'ang_speed_std': 0.17307676721270504, \n",
    "    'ang_std': 0.03379979585323599, \n",
    "    'obs_std': 0.04800698362225296, \n",
    "    'speed_std': 1.6644181926567871}"
   ]
  },
  {
   "cell_type": "code",
   "execution_count": 6,
   "metadata": {
    "execution": {
     "iopub.execute_input": "2020-09-14T10:19:35.253402Z",
     "iopub.status.busy": "2020-09-14T10:19:35.252668Z",
     "iopub.status.idle": "2020-09-14T10:19:35.255575Z",
     "shell.execute_reply": "2020-09-14T10:19:35.256059Z"
    },
    "papermill": {
     "duration": 0.018704,
     "end_time": "2020-09-14T10:19:35.256225",
     "exception": false,
     "start_time": "2020-09-14T10:19:35.237521",
     "status": "completed"
    },
    "tags": []
   },
   "outputs": [],
   "source": [
    "DIR_INPUT = \"../input/lyft-motion-prediction-autonomous-vehicles\"\n",
    "os.environ[\"L5KIT_DATA_FOLDER\"] = DIR_INPUT\n",
    "dm = LocalDataManager(None)"
   ]
  },
  {
   "cell_type": "code",
   "execution_count": 7,
   "metadata": {
    "execution": {
     "iopub.execute_input": "2020-09-14T10:19:35.282779Z",
     "iopub.status.busy": "2020-09-14T10:19:35.282052Z",
     "iopub.status.idle": "2020-09-14T10:19:45.649673Z",
     "shell.execute_reply": "2020-09-14T10:19:45.648545Z"
    },
    "papermill": {
     "duration": 10.384135,
     "end_time": "2020-09-14T10:19:45.649793",
     "exception": false,
     "start_time": "2020-09-14T10:19:35.265658",
     "status": "completed"
    },
    "tags": []
   },
   "outputs": [
    {
     "name": "stdout",
     "output_type": "stream",
     "text": [
      "warning, you're running with a custom agents_mask\n"
     ]
    }
   ],
   "source": [
    "rasterizer = build_rasterizer(cfg, dm)\n",
    "\n",
    "test_zarr = ChunkedDataset(dm.require(cfg['test_data_loader'][\"key\"])).open()\n",
    "test_mask = np.load(f\"{DIR_INPUT}/scenes/mask.npz\")[\"arr_0\"]\n",
    "test_dataset = AgentDataset(cfg, test_zarr, rasterizer, agents_mask=test_mask)\n",
    "test_dataloader = DataLoader(test_dataset, \n",
    "                             shuffle=False, \n",
    "                             batch_size=cfg['test_data_loader'][\"batch_size\"], \n",
    "                             num_workers=cfg['test_data_loader'][\"num_workers\"])"
   ]
  },
  {
   "cell_type": "code",
   "execution_count": 8,
   "metadata": {
    "execution": {
     "iopub.execute_input": "2020-09-14T10:19:45.681753Z",
     "iopub.status.busy": "2020-09-14T10:19:45.681073Z",
     "iopub.status.idle": "2020-09-14T10:19:45.685921Z",
     "shell.execute_reply": "2020-09-14T10:19:45.685088Z"
    },
    "papermill": {
     "duration": 0.024928,
     "end_time": "2020-09-14T10:19:45.686062",
     "exception": false,
     "start_time": "2020-09-14T10:19:45.661134",
     "status": "completed"
    },
    "tags": []
   },
   "outputs": [],
   "source": [
    "def f(cs, ang_rng=None):\n",
    "    res = np.zeros(6)\n",
    "    res[0] = cs[0] + cs[2]*np.cos(cs[3])\n",
    "    res[1] = cs[1] + cs[2]*np.sin(cs[3])\n",
    "    res[2] = cs[2] + cs[5]\n",
    "    res[3] = cs[3] + cs[4]\n",
    "    if ang_rng is not None:\n",
    "        res[3] = np.clip(res[3], ang_rng[0], ang_rng[1])\n",
    "    res[4] = cs[4]\n",
    "    res[5] = params['acc_decay']*cs[5]\n",
    "    return res\n",
    "\n",
    "def g(cs):\n",
    "    res = np.zeros(2)\n",
    "    res[0] = cs[0]\n",
    "    res[1] = cs[1]\n",
    "    return res"
   ]
  },
  {
   "cell_type": "code",
   "execution_count": 9,
   "metadata": {
    "execution": {
     "iopub.execute_input": "2020-09-14T10:19:45.730450Z",
     "iopub.status.busy": "2020-09-14T10:19:45.729627Z",
     "iopub.status.idle": "2020-09-14T13:28:26.586600Z",
     "shell.execute_reply": "2020-09-14T13:28:26.585936Z"
    },
    "papermill": {
     "duration": 11320.890875,
     "end_time": "2020-09-14T13:28:26.586755",
     "exception": false,
     "start_time": "2020-09-14T10:19:45.695880",
     "status": "completed"
    },
    "tags": []
   },
   "outputs": [
    {
     "name": "stderr",
     "output_type": "stream",
     "text": [
      "100%|██████████| 1112/1112 [3:08:05<00:00, 10.15s/it]\n"
     ]
    },
    {
     "name": "stdout",
     "output_type": "stream",
     "text": [
      "(71122, 50, 2)\n"
     ]
    }
   ],
   "source": [
    "timestamps = []\n",
    "agent_ids = []\n",
    "future_coords_offsets_pd = []\n",
    "\n",
    "for batch_idx, data in enumerate(tqdm(test_dataloader)):\n",
    "    \n",
    "    history_positions = data['history_positions'].cpu().numpy()\n",
    "    history_availabilities = data['history_availabilities'].cpu().numpy()\n",
    "    timestamp = data[\"timestamp\"].cpu().numpy()\n",
    "    track_id = data[\"track_id\"].cpu().numpy()\n",
    "    \n",
    "    def run(hp,ha,ts,ti):\n",
    "\n",
    "        measurements = hp[::-1]\n",
    "\n",
    "        ang_std = params['ang_std']\n",
    "        Q = params['Q_std']*np.diag([1, 1, params['speed_std'], ang_std**2, params['ang_speed_std']*ang_std**2, params['acc_std']])\n",
    "        m0 = measurements[-1]\n",
    "\n",
    "        kf = AdditiveUnscentedKalmanFilter(initial_state_mean = [m0[0],m0[1],0,0,0,0], \n",
    "                                           n_dim_obs=2,\n",
    "                                           transition_functions = f,\n",
    "                                           observation_functions = g,\n",
    "                                           transition_covariance = Q,\n",
    "                                           initial_state_covariance = Q,\n",
    "                                           observation_covariance = params['obs_std']**2*np.eye(2))\n",
    "\n",
    "        X = ma.array(measurements)\n",
    "        X[ha[::-1] < 0.5] = ma.masked\n",
    "\n",
    "        z = kf.smooth(X)\n",
    "\n",
    "        pred = np.zeros((51,6))\n",
    "        pred[0] = z[0][-1]\n",
    "        ang_rng = (z[0][-10:,3].min() - params['ang_lim'], z[0][-10:,3].max() + params['ang_lim'])\n",
    "        for i in range(1,51):\n",
    "            pred[i] = f(pred[i-1], ang_rng)\n",
    "        pred = pred[1:,:2]\n",
    "        \n",
    "        return ts, ti, np.expand_dims(pred,0)\n",
    "\n",
    "    res = Parallel(n_jobs=4)(delayed(run)(history_positions[i], history_availabilities[i], \n",
    "                                          timestamp[i], track_id[i]) for i in range(len(data['history_positions'])))\n",
    "    \n",
    "    timestamps.append(np.stack([r[0] for r in res]))\n",
    "    agent_ids.append(np.stack([r[1] for r in res]))\n",
    "    future_coords_offsets_pd.append(np.concatenate([r[2] for r in res]))\n",
    "\n",
    "print(np.concatenate(future_coords_offsets_pd).shape)\n",
    "write_pred_csv(\"submission.csv\",\n",
    "       timestamps=np.concatenate(timestamps),\n",
    "       track_ids=np.concatenate(agent_ids),\n",
    "       coords=np.concatenate(future_coords_offsets_pd),\n",
    "      )"
   ]
  },
  {
   "cell_type": "markdown",
   "metadata": {
    "papermill": {
     "duration": 0.376455,
     "end_time": "2020-09-14T13:28:27.337262",
     "exception": false,
     "start_time": "2020-09-14T13:28:26.960807",
     "status": "completed"
    },
    "tags": []
   },
   "source": [
    "The end!"
   ]
  }
 ],
 "metadata": {
  "kernelspec": {
   "display_name": "Python 3",
   "language": "python",
   "name": "python3"
  },
  "language_info": {
   "codemirror_mode": {
    "name": "ipython",
    "version": 3
   },
   "file_extension": ".py",
   "mimetype": "text/x-python",
   "name": "python",
   "nbconvert_exporter": "python",
   "pygments_lexer": "ipython3",
   "version": "3.7.6"
  },
  "papermill": {
   "duration": 11377.152058,
   "end_time": "2020-09-14T13:28:27.822362",
   "environment_variables": {},
   "exception": null,
   "input_path": "__notebook__.ipynb",
   "output_path": "__notebook__.ipynb",
   "parameters": {},
   "start_time": "2020-09-14T10:18:50.670304",
   "version": "2.1.0"
  }
 },
 "nbformat": 4,
 "nbformat_minor": 4
}
